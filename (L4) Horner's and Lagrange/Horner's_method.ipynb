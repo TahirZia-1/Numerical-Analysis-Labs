{
 "cells": [
  {
   "cell_type": "code",
   "execution_count": 7,
   "metadata": {},
   "outputs": [
    {
     "name": "stdout",
     "output_type": "stream",
     "text": [
      "Value of polynomial is: -1\n"
     ]
    }
   ],
   "source": [
    "def horner(poly, n, x):\n",
    "\n",
    "\t# Initialize result\n",
    "\tresult = poly[0] \n",
    "\n",
    "\t# Evaluate value of polynomial\n",
    "\t# using Horner's method\n",
    "\tfor i in range(1, n):\n",
    "\n",
    "\t\tresult = result*x + poly[i]\n",
    "\n",
    "\treturn result\n",
    "\n",
    "\n",
    "# Let us evaluate value of\n",
    "# 2x3 - 6x2 + 2x - 1 for x = 3\n",
    "poly = [-1, 2, -1]\n",
    "x = 2\n",
    "n = len(poly)\n",
    "\n",
    "print(\"Value of polynomial is:\" , horner(poly, n, x))"
   ]
  },
  {
   "cell_type": "code",
   "execution_count": 5,
   "metadata": {},
   "outputs": [
    {
     "name": "stdout",
     "output_type": "stream",
     "text": [
      "The result of the polynomial evaluation is: 5\n"
     ]
    }
   ],
   "source": [
    "def horners_method(coeffs, x):\n",
    "    \"\"\"\n",
    "    Evaluate a polynomial using Horner's method.\n",
    "    \n",
    "    Args:\n",
    "    coeffs (list): Coefficients of the polynomial (from highest degree to lowest).\n",
    "    x (float): The value at which to evaluate the polynomial.\n",
    "\n",
    "    Returns:\n",
    "    float: The evaluated result of the polynomial at x.\n",
    "    \"\"\"\n",
    "    result = 0\n",
    "    for coeff in coeffs:\n",
    "        result = result * x + coeff\n",
    "    return result\n",
    "\n",
    "# Example usage:\n",
    "coefficients = [2, -6, 2, -1]  # Polynomial: 2x^3 - 6x^2 + 2x - 1\n",
    "x_value = 3\n",
    "result = horners_method(coefficients, x_value)\n",
    "print(f\"The result of the polynomial evaluation is: {result}\")\n"
   ]
  }
 ],
 "metadata": {
  "kernelspec": {
   "display_name": "Python 3",
   "language": "python",
   "name": "python3"
  },
  "language_info": {
   "codemirror_mode": {
    "name": "ipython",
    "version": 3
   },
   "file_extension": ".py",
   "mimetype": "text/x-python",
   "name": "python",
   "nbconvert_exporter": "python",
   "pygments_lexer": "ipython3",
   "version": "3.12.2"
  }
 },
 "nbformat": 4,
 "nbformat_minor": 2
}
