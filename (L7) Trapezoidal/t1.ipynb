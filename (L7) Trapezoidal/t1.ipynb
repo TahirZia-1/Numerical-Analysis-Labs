{
 "cells": [
  {
   "cell_type": "markdown",
   "metadata": {},
   "source": [
    "## Trapezoidal Rule"
   ]
  },
  {
   "cell_type": "code",
   "execution_count": 10,
   "metadata": {},
   "outputs": [
    {
     "name": "stdout",
     "output_type": "stream",
     "text": [
      "Trapezoid Rule Result: 0.5\n",
      "Actual Value: 0.3333333333333333\n",
      "Absolute Error: 0.16666666666666669\n"
     ]
    }
   ],
   "source": [
    "def f(x):\n",
    "    return x**2\n",
    "\n",
    "def trapezoid_rule(f, a, b):\n",
    "    h = b - a\n",
    "    return (h / 2) * (f(a) + f(b))\n",
    "\n",
    "def actual_integral(a, b):\n",
    "    # Integral of x² is x³/3\n",
    "    return (b**3)/3 - (a**3)/3\n",
    "\n",
    "a, b = 0, 1\n",
    "approximation = trapezoid_rule(f, a, b)\n",
    "actual = actual_integral(a, b)\n",
    "absolute_error = abs(actual - approximation)\n",
    "\n",
    "print(\"Trapezoid Rule Result:\", approximation)\n",
    "print(\"Actual Value:\", actual)\n",
    "print(\"Absolute Error:\", absolute_error)"
   ]
  },
  {
   "cell_type": "markdown",
   "metadata": {},
   "source": [
    "## 3 point formula"
   ]
  },
  {
   "cell_type": "code",
   "execution_count": 11,
   "metadata": {},
   "outputs": [
    {
     "name": "stdout",
     "output_type": "stream",
     "text": [
      "Three-Point Formula Result: 2.000000000000004\n",
      "Actual Derivative: 2\n",
      "Absolute Error: 3.9968028886505635e-15\n"
     ]
    }
   ],
   "source": [
    "def three_point(f, x0, h):\n",
    "    derivative = (1 / (2 * h)) * (-3 * f(x0) + 4 * f(x0 + h) - f(x0 + 2 * h))\n",
    "    return derivative\n",
    "\n",
    "def f(x):\n",
    "    return x**2\n",
    "\n",
    "def actual_derivative(x):\n",
    "    # Derivative of x² is 2x\n",
    "    return 2 * x\n",
    "\n",
    "x0 = 1 \n",
    "h = 0.1\n",
    "\n",
    "approximation = three_point(f, x0, h)\n",
    "actual = actual_derivative(x0)\n",
    "absolute_error = abs(actual - approximation)\n",
    "\n",
    "print(\"Three-Point Formula Result:\", approximation)\n",
    "print(\"Actual Derivative:\", actual)\n",
    "print(\"Absolute Error:\", absolute_error)"
   ]
  },
  {
   "cell_type": "markdown",
   "metadata": {},
   "source": [
    "## N+1 formula For Trapezoidal"
   ]
  },
  {
   "cell_type": "code",
   "execution_count": 12,
   "metadata": {},
   "outputs": [
    {
     "name": "stdout",
     "output_type": "stream",
     "text": [
      "n+1 Formula Result: 0.34375\n",
      "Actual Value: 0.3333333333333333\n",
      "Absolute Error: 0.010416666666666685\n"
     ]
    }
   ],
   "source": [
    "def n_plus_1(f, a, b, n):\n",
    "    h = (b - a) / n\n",
    "    x = [a + i * h for i in range(n + 1)]\n",
    "    result = (h / 2) * (f(x[0]) + 2 * sum(f(xi) for xi in x[1:-1]) + f(x[-1]))\n",
    "    return result\n",
    "\n",
    "def f(x):\n",
    "    return x**2\n",
    "\n",
    "def actual_integral(a, b):\n",
    "    # Integral of x² is x³/3\n",
    "    return (b**3)/3 - (a**3)/3\n",
    "\n",
    "a, b, n = 0, 1, 4\n",
    "approximation = n_plus_1(f, a, b, n)\n",
    "actual = actual_integral(a, b)\n",
    "absolute_error = abs(actual - approximation)\n",
    "\n",
    "print(\"n+1 Formula Result:\", approximation)\n",
    "print(\"Actual Value:\", actual)\n",
    "print(\"Absolute Error:\", absolute_error)"
   ]
  },
  {
   "cell_type": "code",
   "execution_count": null,
   "metadata": {},
   "outputs": [],
   "source": []
  }
 ],
 "metadata": {
  "kernelspec": {
   "display_name": "base",
   "language": "python",
   "name": "python3"
  },
  "language_info": {
   "codemirror_mode": {
    "name": "ipython",
    "version": 3
   },
   "file_extension": ".py",
   "mimetype": "text/x-python",
   "name": "python",
   "nbconvert_exporter": "python",
   "pygments_lexer": "ipython3",
   "version": "3.12.4"
  }
 },
 "nbformat": 4,
 "nbformat_minor": 2
}
