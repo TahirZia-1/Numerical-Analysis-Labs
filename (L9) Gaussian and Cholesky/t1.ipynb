{
 "cells": [
  {
   "cell_type": "code",
   "execution_count": null,
   "metadata": {},
   "outputs": [
    {
     "name": "stdout",
     "output_type": "stream",
     "text": [
      "The solution is: x = 0.4999999999999999, y = 2.220446049250313e-16, z = 1.4999999999999998\n"
     ]
    }
   ],
   "source": [
    "import numpy as np\n",
    "\n",
    "def gaussian_elimination(A, B):\n",
    "    n = len(B)\n",
    "   \n",
    "    Augmented = np.hstack([A, B.reshape(-1, 1)])\n",
    "   \n",
    "    for i in range(n):\n",
    "        Augmented[i] = Augmented[i] / Augmented[i][i]\n",
    "       \n",
    "        for j in range(i + 1, n):\n",
    "            Augmented[j] = Augmented[j] - Augmented[j][i] * Augmented[i]\n",
    "   \n",
    "    X = np.zeros(n)\n",
    "    for i in range(n - 1, -1, -1):\n",
    "        X[i] = Augmented[i][n]\n",
    "        for j in range(i + 1, n):\n",
    "            X[i] -= Augmented[i][j] * X[j]\n",
    "   \n",
    "    return X\n",
    "\n",
    "A = np.array([[2, 1, 0], [1, 2, 1], [0, 1, 2]], dtype=float)\n",
    "B = np.array([1, 2, 3], dtype=float)\n",
    "\n",
    "solution = gaussian_elimination(A, B)\n",
    "\n",
    "print(f\"The solution is: x = {solution[0]}, y = {solution[1]}, z = {solution[2]}\")"
   ]
  },
  {
   "cell_type": "code",
   "execution_count": null,
   "metadata": {},
   "outputs": [
    {
     "name": "stdout",
     "output_type": "stream",
     "text": [
      "The solution is: x = 0.49999999999999994, y = 1.4802973661668753e-16, z = 1.4999999999999998\n"
     ]
    }
   ],
   "source": [
    "import numpy as np\n",
    "\n",
    "def LU_decomposition(A):\n",
    "    n = len(A)\n",
    "    L = np.zeros((n, n))  # Lower triangular matrix\n",
    "    U = np.zeros((n, n))  # Upper triangular matrix\n",
    "\n",
    "    for i in range(n):\n",
    "        for j in range(i, n):\n",
    "            U[i][j] = A[i][j] - np.dot(L[i, :i], U[:i, j])\n",
    "\n",
    "        for j in range(i + 1, n):\n",
    "            L[j][i] = (A[j][i] - np.dot(L[j, :i], U[:i, i])) / U[i][i]\n",
    "\n",
    "        L[i][i] = 1  # Diagonal elements of L are 1\n",
    "\n",
    "    return L, U\n",
    "\n",
    "def forward_substitution(L, B):\n",
    "    n = len(B)\n",
    "    Y = np.zeros(n)\n",
    "    for i in range(n):\n",
    "        Y[i] = B[i] - np.dot(L[i, :i], Y[:i])\n",
    "    return Y\n",
    "\n",
    "def back_substitution(U, Y):\n",
    "    n = len(Y)\n",
    "    X = np.zeros(n)\n",
    "    for i in range(n - 1, -1, -1):\n",
    "        X[i] = (Y[i] - np.dot(U[i, i + 1:], X[i + 1:])) / U[i, i]\n",
    "    return X\n",
    "\n",
    "def LU_method(A, B):\n",
    "    L, U = LU_decomposition(A)\n",
    "    \n",
    "    Y = forward_substitution(L, B)\n",
    "    \n",
    "    X = back_substitution(U, Y)\n",
    "    \n",
    "    return X\n",
    "\n",
    "A = np.array([[2, 1, 0], [1, 2, 1], [0, 1, 2]], dtype=float)\n",
    "B = np.array([1, 2, 3], dtype=float)\n",
    "\n",
    "solution = LU_method(A, B)\n",
    "\n",
    "print(f\"The solution is: x = {solution[0]}, y = {solution[1]}, z = {solution[2]}\")\n"
   ]
  },
  {
   "cell_type": "code",
   "execution_count": null,
   "metadata": {},
   "outputs": [
    {
     "name": "stdout",
     "output_type": "stream",
     "text": [
      "The solution is: x = 0.49999999999999994, y = 0.0, z = 1.5\n"
     ]
    }
   ],
   "source": [
    "import numpy as np\n",
    "\n",
    "def cholesky_decomposition(A):\n",
    "    n = len(A)\n",
    "    L = np.zeros((n, n))  # Lower triangular matrix\n",
    "\n",
    "    for i in range(n):\n",
    "        for j in range(i + 1):\n",
    "            if i == j:  # Diagonal elements\n",
    "                L[i][i] = np.sqrt(A[i][i] - np.dot(L[i, :i], L[i, :i]))\n",
    "            else:  # Off-diagonal elements\n",
    "                L[i][j] = (A[i][j] - np.dot(L[i, :j], L[j, :j])) / L[j][j]\n",
    "    \n",
    "    return L\n",
    "\n",
    "def forward_substitution(L, B):\n",
    "    n = len(B)\n",
    "    Y = np.zeros(n)\n",
    "    \n",
    "    for i in range(n):\n",
    "        Y[i] = (B[i] - np.dot(L[i, :i], Y[:i])) / L[i, i]\n",
    "    \n",
    "    return Y\n",
    "\n",
    "def back_substitution(L_T, Y):\n",
    "    n = len(Y)\n",
    "    X = np.zeros(n)\n",
    "    \n",
    "    for i in range(n - 1, -1, -1):\n",
    "        X[i] = (Y[i] - np.dot(L_T[i, i + 1:], X[i + 1:])) / L_T[i, i]\n",
    "    \n",
    "    return X\n",
    "\n",
    "def cholesky_method(A, B):\n",
    "    L = cholesky_decomposition(A)\n",
    "    \n",
    "    Y = forward_substitution(L, B)\n",
    "    \n",
    "    L_T = L.T\n",
    "    X = back_substitution(L_T, Y)\n",
    "    \n",
    "    return X\n",
    "\n",
    "A = np.array([[2, 1, 0], [1, 2, 1], [0, 1, 2]], dtype=float)\n",
    "B = np.array([1, 2, 3], dtype=float)\n",
    "\n",
    "solution = cholesky_method(A, B)\n",
    "\n",
    "print(f\"The solution is: x = {solution[0]}, y = {solution[1]}, z = {solution[2]}\")\n"
   ]
  }
 ],
 "metadata": {
  "kernelspec": {
   "display_name": "base",
   "language": "python",
   "name": "python3"
  },
  "language_info": {
   "codemirror_mode": {
    "name": "ipython",
    "version": 3
   },
   "file_extension": ".py",
   "mimetype": "text/x-python",
   "name": "python",
   "nbconvert_exporter": "python",
   "pygments_lexer": "ipython3",
   "version": "3.12.4"
  }
 },
 "nbformat": 4,
 "nbformat_minor": 2
}
