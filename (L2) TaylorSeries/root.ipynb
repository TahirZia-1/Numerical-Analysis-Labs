{
 "cells": [
  {
   "cell_type": "markdown",
   "metadata": {},
   "source": [
    "# Muhammad Tahir Zia 2021465"
   ]
  },
  {
   "cell_type": "code",
   "execution_count": 1,
   "metadata": {},
   "outputs": [],
   "source": [
    "import math"
   ]
  },
  {
   "cell_type": "code",
   "execution_count": 2,
   "metadata": {},
   "outputs": [
    {
     "name": "stdout",
     "output_type": "stream",
     "text": [
      "Root: 1.501953125\n"
     ]
    }
   ],
   "source": [
    "def f(x):\n",
    "  return x**3 - x - 1\n",
    "\n",
    "a, b = 1, 2\n",
    "tolerance = 0.001\n",
    "\n",
    "while (b - a) / 2 > tolerance:\n",
    "  c = (a + b) / 2\n",
    "  if f(c) * f(a) < 0:\n",
    "    a = c\n",
    "  else:\n",
    "    b = c\n",
    "\n",
    "print(\"Root:\", c)"
   ]
  },
  {
   "cell_type": "code",
   "execution_count": null,
   "metadata": {},
   "outputs": [],
   "source": []
  }
 ],
 "metadata": {
  "kernelspec": {
   "display_name": "Python 3",
   "language": "python",
   "name": "python3"
  },
  "language_info": {
   "codemirror_mode": {
    "name": "ipython",
    "version": 3
   },
   "file_extension": ".py",
   "mimetype": "text/x-python",
   "name": "python",
   "nbconvert_exporter": "python",
   "pygments_lexer": "ipython3",
   "version": "3.12.2"
  }
 },
 "nbformat": 4,
 "nbformat_minor": 2
}
