{
 "cells": [
  {
   "cell_type": "markdown",
   "metadata": {},
   "source": [
    "# 2021465 Muhammad Tahir Zia"
   ]
  },
  {
   "cell_type": "markdown",
   "metadata": {},
   "source": [
    "# Q1)"
   ]
  },
  {
   "cell_type": "markdown",
   "metadata": {},
   "source": [
    "## Algorithms\n",
    "### Bisection"
   ]
  },
  {
   "cell_type": "code",
   "execution_count": 23,
   "metadata": {},
   "outputs": [],
   "source": [
    "import math\n",
    "\n",
    "def bisection_method_third_c(func, a, b):\n",
    "    if func(a) * func(b) >= 0:\n",
    "        print(\"Bisection method fails. f(a) and f(b) must have opposite signs.\")\n",
    "        return None\n",
    "\n",
    "    iteration = 0\n",
    "    while iteration < limit:  \n",
    "        c = (a + b) / 2.0  # Midpoint\n",
    "        print(f\"Iteration {iteration+1}: a = {a}, b = {b}, c = {c}, f(c) = {func(c)}\")\n",
    "        \n",
    "        if func(c) == 0:  \n",
    "            return c\n",
    "        elif func(a) * func(c) < 0: \n",
    "            b = c\n",
    "        else:  \n",
    "            a = c\n",
    "\n",
    "        iteration += 1\n",
    "\n",
    "    return c  "
   ]
  },
  {
   "cell_type": "markdown",
   "metadata": {},
   "source": [
    "### Fixed Point Method"
   ]
  },
  {
   "cell_type": "code",
   "execution_count": 24,
   "metadata": {},
   "outputs": [],
   "source": [
    "import math\n",
    "\n",
    "def fixed_point_iteration(g, x0, tol, max_iter):\n",
    "    print(\"Fixed Point:\")\n",
    "    x = x0\n",
    "    for i in range(max_iter):\n",
    "        x_new = g(x)\n",
    "        if abs(x_new - x) < tol:\n",
    "            return x_new, i + 1\n",
    "        x = x_new\n",
    "        print(x_new)"
   ]
  },
  {
   "cell_type": "markdown",
   "metadata": {},
   "source": [
    "### Secant Method"
   ]
  },
  {
   "cell_type": "code",
   "execution_count": 25,
   "metadata": {},
   "outputs": [],
   "source": [
    "def secant_method(f, x0, x1, tol, max_iter):\n",
    "    print(f\"\\nSecant Method:\")\n",
    "    for i in range(max_iter):\n",
    "        f_x0 = f(x0)\n",
    "        f_x1 = f(x1)\n",
    "        \n",
    "        if abs(f_x1 - f_x0) < 1e-10:  # Avoid division by zero\n",
    "            raise ValueError(\"Division by zero in the secant method.\")\n",
    "        \n",
    "        # Secant method formula\n",
    "        x_new = x1 - f_x1 * (x1 - x0) / (f_x1 - f_x0)\n",
    "        \n",
    "        if abs(x_new - x1) < tol:\n",
    "            return x_new, i + 1\n",
    "        \n",
    "        x0, x1 = x1, x_new\n",
    "        print(x_new)\n",
    "    "
   ]
  },
  {
   "cell_type": "markdown",
   "metadata": {},
   "source": [
    "# Q2)"
   ]
  },
  {
   "cell_type": "markdown",
   "metadata": {},
   "source": [
    "## A) P3 for $sqrt(x) - cos(x)$"
   ]
  },
  {
   "cell_type": "code",
   "execution_count": 26,
   "metadata": {},
   "outputs": [
    {
     "name": "stdout",
     "output_type": "stream",
     "text": [
      "\n",
      "Bisection Finding c:\n",
      "Iteration 1: a = 0, b = 1, c = 0.5, f(c) = -0.17047578070382519\n",
      "Iteration 2: a = 0.5, b = 1, c = 0.75, f(c) = 0.1343365349106177\n",
      "Iteration 3: a = 0.5, b = 0.75, c = 0.625, f(c) = -0.020393704463123052\n",
      "Bisection: 0.625\n",
      "\n",
      "Fixed Point:\n",
      "0.7701511529340699\n",
      "0.5152446475780607\n",
      "0.7571996555588056\n",
      "cannot unpack non-iterable NoneType object\n",
      "\n",
      "Secant Method:\n",
      "0.6850733573260451\n",
      "0.643753386653444\n",
      "0.641725945119874\n",
      "cannot unpack non-iterable NoneType object\n"
     ]
    }
   ],
   "source": [
    "# Bisection\n",
    "limit = 3\n",
    "\n",
    "def func1(x):\n",
    "    return math.sqrt(x) - math.cos(x)  \n",
    "\n",
    "print(\"\\nBisection Finding c:\")\n",
    "root1 = bisection_method_third_c(func1, 0, 1) # a=0, b=1\n",
    "if root1 is not None:\n",
    "    print(f\"Bisection: {root1}\\n\")\n",
    "    \n",
    "# Fixed Point\n",
    "def g(x):\n",
    "    return math.cos(x)**2  \n",
    "\n",
    "x0 = 0.5\n",
    "tolerance = 1e-5\n",
    "max_iterations = 3\n",
    "\n",
    "try:\n",
    "    solution, iterations = fixed_point_iteration(g, x0, tolerance, max_iterations)\n",
    "    print(f\"Fixed point: {solution}, found in {iterations} iterations.\")\n",
    "except Exception as e:\n",
    "    print(e)\n",
    "    \n",
    "# Secant Method\n",
    "def f(x):\n",
    "    return math.sqrt(x) - math.cos(x) \n",
    "\n",
    "x0 = 0\n",
    "x1 = 1\n",
    "tolerance = 1e-5\n",
    "max_iterations = 3\n",
    "\n",
    "try:\n",
    "    root, iterations = secant_method(f, x0, x1, tolerance, max_iterations)\n",
    "    print(f\"Root: {root}, found in {iterations} iterations.\")\n",
    "\n",
    "except Exception as e:\n",
    "    print(e)\n"
   ]
  },
  {
   "cell_type": "markdown",
   "metadata": {},
   "source": [
    "## B) P3 for $3*(x+1) * (x-0.5) * (x-1)$"
   ]
  },
  {
   "cell_type": "code",
   "execution_count": 27,
   "metadata": {},
   "outputs": [
    {
     "name": "stdout",
     "output_type": "stream",
     "text": [
      "\n",
      "Bisection Finding c:\n",
      "Iteration 1: a = -2, b = 1.5, c = -0.25, f(c) = 2.109375\n",
      "Iteration 2: a = -2, b = -0.25, c = -1.125, f(c) = -1.294921875\n",
      "Iteration 3: a = -1.125, b = -0.25, c = -0.6875, f(c) = 1.878662109375\n",
      "Bisection: -0.6875\n",
      "\n",
      "Fixed Point:\n",
      "0.2519999999999998\n",
      "0.6967530240000007\n",
      "-0.3037090835620797\n",
      "cannot unpack non-iterable NoneType object\n",
      "\n",
      "Secant Method:\n",
      "Root: 0.5, found in 1 iterations.\n"
     ]
    }
   ],
   "source": [
    "# Bisection\n",
    "limit = 3\n",
    "\n",
    "def func1(x):\n",
    "    return 3*(x+1) * (x-0.5) * (x-1)  \n",
    "\n",
    "print(\"\\nBisection Finding c:\")\n",
    "root1 = bisection_method_third_c(func1, -2, 1.5) # a=0, b=1\n",
    "if root1 is not None:\n",
    "    print(f\"Bisection: {root1}\\n\")\n",
    "    \n",
    "# Fixed Point\n",
    "def g(x):\n",
    "    return 3*x**3 - 1.5*x**2 - 3*x + 1.5\n",
    "\n",
    "x0 = 0.4\n",
    "tolerance = 1e-5\n",
    "max_iterations = 3\n",
    "\n",
    "try:\n",
    "    solution, iterations = fixed_point_iteration(g, x0, tolerance, max_iterations)\n",
    "    print(f\"Fixed point: {solution}, found in {iterations} iterations.\")\n",
    "except Exception as e:\n",
    "    print(e)\n",
    "    \n",
    "# Secant Method\n",
    "def f(x):\n",
    "    return 3*(x+1) * (x-0.5) * (x-1)\n",
    "\n",
    "x0 = 0.3\n",
    "x1 = 0.5\n",
    "tolerance = 1e-5\n",
    "max_iterations = 3\n",
    "\n",
    "try:\n",
    "    root, iterations = secant_method(f, x0, x1, tolerance, max_iterations)\n",
    "    print(f\"Root: {root}, found in {iterations} iterations.\")\n",
    "\n",
    "except Exception as e:\n",
    "    print(e)\n",
    "\n"
   ]
  },
  {
   "cell_type": "markdown",
   "metadata": {},
   "source": [
    "## C) P7 for $x^3 - 7x^2 + 14x - 6$"
   ]
  },
  {
   "cell_type": "code",
   "execution_count": 28,
   "metadata": {},
   "outputs": [
    {
     "name": "stdout",
     "output_type": "stream",
     "text": [
      "\n",
      "Bisection Finding c:\n",
      "Iteration 1: a = 3.2, b = 4, c = 3.6, f(c) = 0.3360000000000056\n",
      "Iteration 2: a = 3.2, b = 3.6, c = 3.4000000000000004, f(c) = -0.015999999999998238\n",
      "Iteration 3: a = 3.4000000000000004, b = 3.6, c = 3.5, f(c) = 0.125\n",
      "Iteration 4: a = 3.4000000000000004, b = 3.5, c = 3.45, f(c) = 0.046125000000003524\n",
      "Iteration 5: a = 3.4000000000000004, b = 3.45, c = 3.4250000000000003, f(c) = 0.013015625000001307\n",
      "Iteration 6: a = 3.4000000000000004, b = 3.4250000000000003, c = 3.4125000000000005, f(c) = -0.0019980468750020464\n",
      "Iteration 7: a = 3.4125000000000005, b = 3.4250000000000003, c = 3.41875, f(c) = 0.005381591796883356\n",
      "Bisection: 3.41875\n",
      "\n",
      "Fixed Point:\n",
      "3.4013840830449817\n",
      "3.40263730623033\n",
      "3.4037713104638345\n",
      "3.404796838491097\n",
      "3.405723777630464\n",
      "3.406561206164555\n",
      "3.407317441787831\n",
      "cannot unpack non-iterable NoneType object\n",
      "\n",
      "Secant Method:\n",
      "3.3650349650349622\n",
      "3.3954140394423087\n",
      "3.417287461370756\n",
      "3.4140471970760533\n",
      "3.4142121570154793\n",
      "Root: 3.4142135630204833, found in 6 iterations.\n"
     ]
    }
   ],
   "source": [
    "# Bisection\n",
    "limit = 7\n",
    "\n",
    "def func1(x):\n",
    "    return x**3 - 7*x**2 + 14*x - 6\n",
    "\n",
    "print(\"\\nBisection Finding c:\")\n",
    "root1 = bisection_method_third_c(func1, 3.2, 4) # a=0, b=1\n",
    "if root1 is not None:\n",
    "    print(f\"Bisection: {root1}\\n\")\n",
    "    \n",
    "# Fixed Point\n",
    "def g(x):\n",
    "    return (7 * x**2 - 14 * x + 6) / x**2\n",
    "\n",
    "x0 = 3.4\n",
    "tolerance = 1e-5\n",
    "max_iterations = 7\n",
    "\n",
    "try:\n",
    "    solution, iterations = fixed_point_iteration(g, x0, tolerance, max_iterations)\n",
    "    print(f\"Fixed point: {solution}, found in {iterations} iterations.\")\n",
    "except Exception as e:\n",
    "    print(e)\n",
    "    \n",
    "# Secant Method\n",
    "def f(x):\n",
    "    return x**3 - 7*x**2 + 14*x - 6\n",
    "\n",
    "x0 = 3.3\n",
    "x1 = 3.6\n",
    "tolerance = 1e-5\n",
    "max_iterations = 7\n",
    "\n",
    "try:\n",
    "    root, iterations = secant_method(f, x0, x1, tolerance, max_iterations)\n",
    "    print(f\"Root: {root}, found in {iterations} iterations.\")\n",
    "\n",
    "except Exception as e:\n",
    "    print(e)\n",
    "\n"
   ]
  },
  {
   "cell_type": "markdown",
   "metadata": {},
   "source": [
    "## D) P17 for $e^x- x^2 + 3*x - 2$"
   ]
  },
  {
   "cell_type": "code",
   "execution_count": 29,
   "metadata": {},
   "outputs": [
    {
     "name": "stdout",
     "output_type": "stream",
     "text": [
      "\n",
      "Bisection Finding c:\n",
      "Iteration 1: a = 0, b = 1, c = 0.5, f(c) = 0.8987212707001282\n",
      "Iteration 2: a = 0, b = 0.5, c = 0.25, f(c) = -0.028474583312258606\n",
      "Iteration 3: a = 0.25, b = 0.5, c = 0.375, f(c) = 0.43936641461820125\n",
      "Iteration 4: a = 0.25, b = 0.375, c = 0.3125, f(c) = 0.2066816911737961\n",
      "Iteration 5: a = 0.25, b = 0.3125, c = 0.28125, f(c) = 0.0894331962288657\n",
      "Iteration 6: a = 0.25, b = 0.28125, c = 0.265625, f(c) = 0.03056423414263776\n",
      "Iteration 7: a = 0.25, b = 0.265625, c = 0.2578125, f(c) = 0.0010663676901234709\n",
      "Iteration 8: a = 0.25, b = 0.2578125, c = 0.25390625, f(c) = -0.013698683712779491\n",
      "Iteration 9: a = 0.25390625, b = 0.2578125, c = 0.255859375, f(c) = -0.006314806791194449\n",
      "Iteration 10: a = 0.255859375, b = 0.2578125, c = 0.2568359375, f(c) = -0.0026238823470838835\n",
      "Iteration 11: a = 0.2568359375, b = 0.2578125, c = 0.25732421875, f(c) = -0.0007786731028793792\n",
      "Iteration 12: a = 0.25732421875, b = 0.2578125, c = 0.257568359375, f(c) = 0.00014386834061053122\n",
      "Iteration 13: a = 0.25732421875, b = 0.257568359375, c = 0.2574462890625, f(c) = -0.0003173971182106605\n",
      "Iteration 14: a = 0.2574462890625, b = 0.257568359375, c = 0.25750732421875, f(c) = -8.676307321620058e-05\n",
      "Iteration 15: a = 0.25750732421875, b = 0.257568359375, c = 0.257537841796875, f(c) = 2.8552962574757146e-05\n",
      "Iteration 16: a = 0.25750732421875, b = 0.257537841796875, c = 0.2575225830078125, f(c) = -2.910497309893678e-05\n",
      "Iteration 17: a = 0.2575225830078125, b = 0.257537841796875, c = 0.25753021240234375, f(c) = -2.759847070876731e-07\n",
      "Bisection: 0.25753021240234375\n",
      "\n",
      "Fixed Point:\n",
      "0.5444066670038623\n",
      "4.577946358134976\n",
      "5.203277870137124\n",
      "7.2200824021772645\n",
      "26.592611164613675\n",
      "500613228.5310807\n",
      "math range error\n",
      "\n",
      "Secant Method:\n",
      "0.2577602715499584\n",
      "0.2575293932130828\n",
      "Root: 0.2575302854590354, found in 3 iterations.\n"
     ]
    }
   ],
   "source": [
    "# Bisection\n",
    "limit = 17\n",
    "\n",
    "def func1(x):\n",
    "    return math.exp(x) - x**2 + 3*x - 2\n",
    "\n",
    "print(\"\\nBisection Finding c:\")\n",
    "root1 = bisection_method_third_c(func1, 0, 1) # a=0, b=1\n",
    "if root1 is not None:\n",
    "    print(f\"Bisection: {root1}\\n\")\n",
    "    \n",
    "# Fixed Point\n",
    "def g(x):\n",
    "    return (math.exp(x) + 3*x - 2)/x**2\n",
    "\n",
    "x0 = 0.25\n",
    "tolerance = 1e-5\n",
    "max_iterations = 17\n",
    "\n",
    "try:\n",
    "    solution, iterations = fixed_point_iteration(g, x0, tolerance, max_iterations)\n",
    "    print(f\"Fixed point: {solution}, found in {iterations} iterations.\")\n",
    "except Exception as e:\n",
    "    print(e)\n",
    "    \n",
    "# Secant Method\n",
    "def f(x):\n",
    "    return math.exp(x) - x**2 + 3*x - 2\n",
    "\n",
    "x0 = 0.2\n",
    "x1 = 0.3\n",
    "tolerance = 1e-5\n",
    "max_iterations = 17\n",
    "\n",
    "try:\n",
    "    root, iterations = secant_method(f, x0, x1, tolerance, max_iterations)\n",
    "    print(f\"Root: {root}, found in {iterations} iterations.\")\n",
    "\n",
    "except Exception as e:\n",
    "    print(e)\n",
    "\n"
   ]
  },
  {
   "cell_type": "markdown",
   "metadata": {},
   "source": [
    "## E) $2x*cos2x - (x+1)^2$"
   ]
  },
  {
   "cell_type": "markdown",
   "metadata": {},
   "source": [
    "# Q3)"
   ]
  },
  {
   "cell_type": "code",
   "execution_count": 30,
   "metadata": {},
   "outputs": [
    {
     "name": "stdout",
     "output_type": "stream",
     "text": [
      "\n",
      "Bisection Finding c:\n",
      "Iteration 1: a = -3, b = -2, c = -2.5, f(c) = -3.6683109273161314\n",
      "Iteration 2: a = -2.5, b = -2, c = -2.25, f(c) = -0.6139189025614914\n",
      "Iteration 3: a = -2.25, b = -2, c = -2.125, f(c) = 0.6302468321336194\n",
      "Iteration 4: a = -2.25, b = -2.125, c = -2.1875, f(c) = 0.03807553173138234\n",
      "Iteration 5: a = -2.25, b = -2.1875, c = -2.21875, f(c) = -0.2808361755159614\n",
      "Iteration 6: a = -2.21875, b = -2.1875, c = -2.203125, f(c) = -0.11955681450606104\n",
      "Iteration 7: a = -2.203125, b = -2.1875, c = -2.1953125, f(c) = -0.04027851417645412\n",
      "Iteration 8: a = -2.1953125, b = -2.1875, c = -2.19140625, f(c) = -0.0009851949521679781\n",
      "Iteration 9: a = -2.19140625, b = -2.1875, c = -2.189453125, f(c) = 0.018574336957665638\n",
      "Iteration 10: a = -2.19140625, b = -2.189453125, c = -2.1904296875, f(c) = 0.008801851379554693\n",
      "Iteration 11: a = -2.19140625, b = -2.1904296875, c = -2.19091796875, f(c) = 0.0039101468330970945\n",
      "Iteration 12: a = -2.19140625, b = -2.19091796875, c = -2.191162109375, f(c) = 0.0014629304107067753\n",
      "Iteration 13: a = -2.19140625, b = -2.191162109375, c = -2.1912841796875, f(c) = 0.00023898132373800784\n",
      "Iteration 14: a = -2.19140625, b = -2.1912841796875, c = -2.19134521484375, f(c) = -0.00037307841848543966\n",
      "Iteration 15: a = -2.19134521484375, b = -2.1912841796875, c = -2.191314697265625, f(c) = -6.704144808034052e-05\n",
      "Iteration 16: a = -2.191314697265625, b = -2.1912841796875, c = -2.1912994384765625, f(c) = 8.597171269708603e-05\n",
      "Iteration 17: a = -2.191314697265625, b = -2.1912994384765625, c = -2.1913070678710938, f(c) = 9.465576019884736e-06\n",
      "Bisection: -2.1913070678710938\n",
      "\n",
      "Fixed Point:\n",
      "-0.2966077969111232\n",
      "0.20511471787874005\n",
      "0.6659015378337765\n",
      "0.32848237891449134\n",
      "0.6987539467569499\n",
      "0.24878534513159725\n",
      "0.6851856873000197\n",
      "0.2826869761559088\n",
      "0.694630090704995\n",
      "0.25923576987381786\n",
      "0.6886407947195656\n",
      "0.2741855973789475\n",
      "0.6927478310912458\n",
      "0.2639631580700101\n",
      "0.6900474380055246\n",
      "0.27069875514576736\n",
      "0.6918797660187629\n",
      "cannot unpack non-iterable NoneType object\n",
      "\n",
      "Secant Method:\n",
      "-2.1616769408000613\n",
      "-2.187589044063955\n",
      "-2.1913955485611183\n",
      "-2.191307763141398\n",
      "Root: -2.1913080117807024, found in 5 iterations.\n"
     ]
    }
   ],
   "source": [
    "# Bisection\n",
    "limit = 17\n",
    "\n",
    "def func1(x):\n",
    "    return 2*x*math.cos(2*x) - (x+1)**2\n",
    "\n",
    "print(\"\\nBisection Finding c:\")\n",
    "root1 = bisection_method_third_c(func1, -3, -2) # a=0, b=1\n",
    "if root1 is not None:\n",
    "    print(f\"Bisection: {root1}\\n\")\n",
    "    \n",
    "# Fixed Point\n",
    "def g(x):\n",
    "    return (x + 1)**2 / 2*math.cos(2*x)\n",
    "\n",
    "x0 = -2.1\n",
    "tolerance = 1e-5\n",
    "max_iterations = 17\n",
    "\n",
    "try:\n",
    "    solution, iterations = fixed_point_iteration(g, x0, tolerance, max_iterations)\n",
    "    print(f\"Fixed point: {solution}, found in {iterations} iterations.\")\n",
    "except Exception as e:\n",
    "    print(e)\n",
    "    \n",
    "# Secant Method\n",
    "def f(x):\n",
    "    return 2*x*math.cos(2*x) - (x+1)**2\n",
    "\n",
    "x0 = -2.0\n",
    "x1 = -2.4\n",
    "tolerance = 1e-5\n",
    "max_iterations = 17\n",
    "\n",
    "try:\n",
    "    root, iterations = secant_method(f, x0, x1, tolerance, max_iterations)\n",
    "    print(f\"Root: {root}, found in {iterations} iterations.\")\n",
    "\n",
    "except Exception as e:\n",
    "    print(e)\n",
    "\n"
   ]
  },
  {
   "cell_type": "markdown",
   "metadata": {},
   "source": [
    "The bisection Method converges very slow but, it will also give a precise answer. Whereas, Secant Method is the fastest but a little less accurate than Bisection Method. Fixed Point Method is a tricky one because you have to first find out the $g(x) = x$ form and also check if it converges otherwise the answer would not be correct. Overall Secant is the best.\n",
    "By looking at the results we can conclude that Bisection Method gives correct answer everytime. Fixed point relies on $g(x) = x$ form, and Secant Method is the fastest with least iterations."
   ]
  },
  {
   "cell_type": "markdown",
   "metadata": {},
   "source": [
    "# BLANK"
   ]
  },
  {
   "cell_type": "code",
   "execution_count": 31,
   "metadata": {},
   "outputs": [],
   "source": [
    "import math\n",
    "\n",
    "def fixed_point_iteration(g, x0, tol, max_iter):\n",
    "    print(\"Fixed Point:\")\n",
    "    x = x0\n",
    "    for i in range(max_iter):\n",
    "        x_new = g(x)\n",
    "        if abs(x_new - x) < tol:\n",
    "            return x_new, i + 1\n",
    "        x = x_new\n",
    "        print(x_new)"
   ]
  },
  {
   "cell_type": "code",
   "execution_count": 32,
   "metadata": {},
   "outputs": [],
   "source": [
    "# Fixed Point\n",
    "def g(x):\n",
    "    return 3*x**3 - 1.5*x**2 - 3*x + 1.5"
   ]
  },
  {
   "cell_type": "code",
   "execution_count": 33,
   "metadata": {},
   "outputs": [
    {
     "name": "stdout",
     "output_type": "stream",
     "text": [
      "Fixed Point:\n",
      "0.2519999999999998\n",
      "0.6967530240000007\n",
      "-0.3037090835620797\n",
      "None\n"
     ]
    }
   ],
   "source": [
    "sol = fixed_point_iteration(g,0.4,1e-5,3)\n",
    "print(sol)"
   ]
  },
  {
   "cell_type": "code",
   "execution_count": null,
   "metadata": {},
   "outputs": [],
   "source": []
  }
 ],
 "metadata": {
  "kernelspec": {
   "display_name": "Python 3",
   "language": "python",
   "name": "python3"
  },
  "language_info": {
   "codemirror_mode": {
    "name": "ipython",
    "version": 3
   },
   "file_extension": ".py",
   "mimetype": "text/x-python",
   "name": "python",
   "nbconvert_exporter": "python",
   "pygments_lexer": "ipython3",
   "version": "3.12.2"
  }
 },
 "nbformat": 4,
 "nbformat_minor": 2
}
