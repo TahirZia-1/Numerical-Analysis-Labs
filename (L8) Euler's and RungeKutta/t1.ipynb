{
 "cells": [
  {
   "cell_type": "markdown",
   "metadata": {},
   "source": [
    "# Euler's Method"
   ]
  },
  {
   "cell_type": "code",
   "execution_count": 9,
   "metadata": {},
   "outputs": [
    {
     "name": "stdout",
     "output_type": "stream",
     "text": [
      "Results for h = 0.2:\n",
      "t       y_numerical    y_exact        error          \n",
      "0.00    0.500000       0.500000       0.000000       \n",
      "0.20    0.800000       0.829299       0.029299       \n",
      "0.40    1.152000       1.214088       0.062088       \n",
      "0.60    1.550400       1.648941       0.098541       \n",
      "0.80    1.988480       2.127230       0.138750       \n",
      "1.00    2.458176       2.640859       0.182683       \n",
      "1.20    2.949811       3.179942       0.230130       \n",
      "1.40    3.451773       3.732400       0.280627       \n",
      "1.60    3.950128       4.283484       0.333356       \n",
      "1.80    4.428154       4.815176       0.387023       \n",
      "2.00    4.865785       5.305472       0.439687       \n"
     ]
    }
   ],
   "source": [
    "import math\n",
    "\n",
    "def euler_method(f, t0, y0, h, n, exact_solution):\n",
    "    t, y = t0, y0\n",
    "    results = []\n",
    "    for _ in range(n):\n",
    "        y_exact = exact_solution(t)\n",
    "        error = abs(y - y_exact)\n",
    "        results.append((t, y, y_exact, error))\n",
    "        y += h * f(t, y)\n",
    "        t += h\n",
    "    y_exact = exact_solution(t)\n",
    "    error = abs(y - y_exact)\n",
    "    results.append((t, y, y_exact, error))\n",
    "    return results\n",
    "\n",
    "def derivative(t, y):\n",
    "    return y - t**2 + 1\n",
    "\n",
    "def exact_solution(t):\n",
    "    return (t + 1)**2 - 0.5 * math.exp(t)\n",
    "\n",
    "t0 = 0\n",
    "y0 = 0.5\n",
    "t_final = 2\n",
    "\n",
    "h = 0.2\n",
    "n = int((t_final - t0) / h)\n",
    "results_h = euler_method(derivative, t0, y0, h, n, exact_solution)\n",
    "\n",
    "print(\"Results for h = 0.2:\")\n",
    "print(f\"{'t':<8}{'y_numerical':<15}{'y_exact':<15}{'error':<15}\")\n",
    "for t, y_num, y_ex, err in results_h:\n",
    "    print(f\"{t:<8.2f}{y_num:<15.6f}{y_ex:<15.6f}{err:<15.6f}\")"
   ]
  },
  {
   "cell_type": "markdown",
   "metadata": {},
   "source": [
    "# Runge Kutta Method"
   ]
  },
  {
   "cell_type": "code",
   "execution_count": 10,
   "metadata": {},
   "outputs": [
    {
     "name": "stdout",
     "output_type": "stream",
     "text": [
      "Results for h = 0.2:\n",
      "t       y_numerical    y_exact        error          \n",
      "0.00    0.500000       0.500000       0.000000       \n",
      "0.20    0.829293       0.829299       0.000005       \n",
      "0.40    1.214076       1.214088       0.000011       \n",
      "0.60    1.648922       1.648941       0.000019       \n",
      "0.80    2.127203       2.127230       0.000027       \n",
      "1.00    2.640823       2.640859       0.000036       \n",
      "1.20    3.179894       3.179942       0.000047       \n",
      "1.40    3.732340       3.732400       0.000060       \n",
      "1.60    4.283409       4.283484       0.000074       \n",
      "1.80    4.815086       4.815176       0.000091       \n",
      "2.00    5.305363       5.305472       0.000109       \n"
     ]
    }
   ],
   "source": [
    "def runge_kutta_4th_order(f, t0, y0, h, n, exact_solution):\n",
    "    t, y = t0, y0\n",
    "    results = []\n",
    "    for _ in range(n):\n",
    "        y_exact = exact_solution(t)\n",
    "        error = abs(y - y_exact)\n",
    "        results.append((t, y, y_exact, error))\n",
    "        k1 = h * f(t, y)\n",
    "        k2 = h * f(t + h / 2, y + k1 / 2)\n",
    "        k3 = h * f(t + h / 2, y + k2 / 2)\n",
    "        k4 = h * f(t + h, y + k3)\n",
    "        y += (k1 + 2 * k2 + 2 * k3 + k4) / 6\n",
    "        t += h\n",
    "\n",
    "    y_exact = exact_solution(t)\n",
    "    error = abs(y - y_exact)\n",
    "    results.append((t, y, y_exact, error))\n",
    "    return results\n",
    "\n",
    "def derivative(t, y):\n",
    "    return y - t**2 + 1\n",
    "\n",
    "def exact_solution(t):\n",
    "    return (t + 1)**2 - 0.5 * math.exp(t)\n",
    "\n",
    "t0 = 0\n",
    "y0 = 0.5\n",
    "t_final = 2\n",
    "\n",
    "h = 0.2\n",
    "n = int((t_final - t0) / h)\n",
    "results_h = runge_kutta_4th_order(derivative, t0, y0, h, n, exact_solution)\n",
    "\n",
    "print(\"Results for h = 0.2:\")\n",
    "print(f\"{'t':<8}{'y_numerical':<15}{'y_exact':<15}{'error':<15}\")\n",
    "for t, y_num, y_ex, err in results_h:\n",
    "    print(f\"{t:<8.2f}{y_num:<15.6f}{y_ex:<15.6f}{err:<15.6f}\")"
   ]
  },
  {
   "cell_type": "code",
   "execution_count": null,
   "metadata": {},
   "outputs": [],
   "source": []
  }
 ],
 "metadata": {
  "kernelspec": {
   "display_name": "base",
   "language": "python",
   "name": "python3"
  },
  "language_info": {
   "codemirror_mode": {
    "name": "ipython",
    "version": 3
   },
   "file_extension": ".py",
   "mimetype": "text/x-python",
   "name": "python",
   "nbconvert_exporter": "python",
   "pygments_lexer": "ipython3",
   "version": "3.12.4"
  }
 },
 "nbformat": 4,
 "nbformat_minor": 2
}
