{
  "cells": [
    {
      "cell_type": "markdown",
      "source": [
        "# *Muhammad Tahir Zia (2021465)*"
      ],
      "metadata": {
        "id": "k3zBYWemySOR"
      }
    },
    {
      "cell_type": "code",
      "source": [
        "import numpy as np\n",
        "import pandas as pd\n",
        "from sklearn.linear_model import LinearRegression\n",
        "from sklearn.model_selection import train_test_split\n",
        "from sklearn.metrics import mean_squared_error, r2_score\n",
        "import matplotlib.pyplot as plt"
      ],
      "metadata": {
        "id": "uyDNaaNrv-hm"
      },
      "execution_count": 1,
      "outputs": []
    },
    {
      "cell_type": "markdown",
      "source": [
        "## *Dataset with multiple features*"
      ],
      "metadata": {
        "id": "9tPshyMSyphs"
      }
    },
    {
      "cell_type": "code",
      "source": [
        "# Here we create a synthetic dataset for demonstration\n",
        "np.random.seed(42)\n",
        "n_samples = 100\n",
        "n_features = 3\n",
        "\n",
        "# Generate random data (3 features: X1, X2, X3)\n",
        "X1 = np.random.randn(n_samples)\n",
        "X2 = 2 * X1 + np.random.randn(n_samples)  # Correlated with X1\n",
        "X3 = 3 * X1 + np.random.randn(n_samples)  # Correlated with X1 and X2"
      ],
      "metadata": {
        "id": "7xs4avx_wAFQ"
      },
      "execution_count": 2,
      "outputs": []
    },
    {
      "cell_type": "code",
      "source": [
        "data = pd.DataFrame({'X1': X1, 'X2': X2, 'X3': X3})\n",
        "print(\"Dataset:\")\n",
        "print(data.head())"
      ],
      "metadata": {
        "colab": {
          "base_uri": "https://localhost:8080/"
        },
        "id": "ExfL-EqkwE9M",
        "outputId": "3554920f-ccf4-413f-dd02-9da1774f39c9"
      },
      "execution_count": 3,
      "outputs": [
        {
          "output_type": "stream",
          "name": "stdout",
          "text": [
            "Dataset:\n",
            "         X1        X2        X3\n",
            "0  0.496714 -0.421942  1.847930\n",
            "1 -0.138264 -0.697174  0.145992\n",
            "2  0.647689  0.952663  3.026117\n",
            "3  1.523030  2.243782  5.622892\n",
            "4 -0.234153 -0.629592 -2.080129\n"
          ]
        }
      ]
    },
    {
      "cell_type": "markdown",
      "source": [
        "## *Covariance Matrix of the Dataset*"
      ],
      "metadata": {
        "id": "d3-6oL96ywos"
      }
    },
    {
      "cell_type": "code",
      "source": [
        "cov_matrix = data.cov()\n",
        "print(\"\\nCovariance Matrix:\")\n",
        "print(cov_matrix)"
      ],
      "metadata": {
        "colab": {
          "base_uri": "https://localhost:8080/"
        },
        "id": "2pfWuEMfwHVM",
        "outputId": "3a4b1909-ba5d-4f78-bdc2-dbbb5a1f3396"
      },
      "execution_count": 4,
      "outputs": [
        {
          "output_type": "stream",
          "name": "stdout",
          "text": [
            "\n",
            "Covariance Matrix:\n",
            "          X1        X2        X3\n",
            "X1  0.824770  1.531386  2.662232\n",
            "X2  1.531386  3.735947  4.932122\n",
            "X3  2.662232  4.932122  9.726132\n"
          ]
        }
      ]
    },
    {
      "cell_type": "markdown",
      "source": [
        "## *Eigen Values and Eigen Vectors*"
      ],
      "metadata": {
        "id": "WKus779Ny3RH"
      }
    },
    {
      "cell_type": "code",
      "source": [
        "# Step 3: Compute the eigenvalues and eigenvectors\n",
        "eigenvalues, eigenvectors = np.linalg.eig(cov_matrix)\n",
        "print(\"\\nEigenvalues:\")\n",
        "print(eigenvalues)\n",
        "print(\"\\nEigenvectors:\")\n",
        "print(eigenvectors)"
      ],
      "metadata": {
        "colab": {
          "base_uri": "https://localhost:8080/"
        },
        "id": "WHxoCLIpwKYM",
        "outputId": "4c85b0b4-bea2-41cc-c191-17d3bcee7200"
      },
      "execution_count": 5,
      "outputs": [
        {
          "output_type": "stream",
          "name": "stdout",
          "text": [
            "\n",
            "Eigenvalues:\n",
            "[13.2598302   0.06539548  0.96162345]\n",
            "\n",
            "Eigenvectors:\n",
            "[[ 0.23976966  0.97035093 -0.03048914]\n",
            " [ 0.47657102 -0.14500348 -0.86709518]\n",
            " [ 0.84580765 -0.19337287  0.49720857]]\n"
          ]
        }
      ]
    },
    {
      "cell_type": "markdown",
      "source": [
        "## *Linear Regression Model*"
      ],
      "metadata": {
        "id": "Y6YSGjazy8de"
      }
    },
    {
      "cell_type": "code",
      "source": [
        "# Step 4: Linear regression to predict one feature (e.g., X3) using X1 and X2\n",
        "X = data[['X1', 'X2']]\n",
        "y = data['X3']\n",
        "\n",
        "# Split data into training and testing sets\n",
        "X_train, X_test, y_train, y_test = train_test_split(X, y, test_size=0.2, random_state=42)\n",
        "\n",
        "# Fit Linear Regression Model\n",
        "model = LinearRegression()\n",
        "model.fit(X_train, y_train)\n",
        "\n",
        "# Predict and evaluate performance\n",
        "y_pred = model.predict(X_test)\n",
        "mse = mean_squared_error(y_test, y_pred)\n",
        "r2 = r2_score(y_test, y_pred)\n",
        "\n",
        "print(\"\\nLinear Regression Model Performance:\")\n",
        "print(f\"Mean Squared Error (MSE): {mse:.4f}\")\n",
        "print(f\"R-squared (R2): {r2:.4f}\")"
      ],
      "metadata": {
        "colab": {
          "base_uri": "https://localhost:8080/"
        },
        "id": "8W9atwJbwa90",
        "outputId": "b06c27a8-bb7f-41a8-979b-d3314a230366"
      },
      "execution_count": 6,
      "outputs": [
        {
          "output_type": "stream",
          "name": "stdout",
          "text": [
            "\n",
            "Linear Regression Model Performance:\n",
            "Mean Squared Error (MSE): 0.5449\n",
            "R-squared (R2): 0.9334\n"
          ]
        }
      ]
    },
    {
      "cell_type": "markdown",
      "source": [
        "## *Analysis of Eigen values and Model*"
      ],
      "metadata": {
        "id": "tiN5mkZSzA71"
      }
    },
    {
      "cell_type": "code",
      "source": [
        "# Step 5: Analyze relationship between eigenvalues and model performance\n",
        "# Explanation:\n",
        "# Large eigenvalues correspond to high variance directions in the data.\n",
        "# These directions likely contribute more to predicting the dependent variable.\n",
        "\n",
        "total_variance = sum(eigenvalues)\n",
        "explained_variance_ratio = [ev / total_variance for ev in eigenvalues]\n",
        "\n",
        "print(\"\\nExplained Variance Ratio:\")\n",
        "for i, ratio in enumerate(explained_variance_ratio):\n",
        "    print(f\"Principal Component {i+1}: {ratio:.4f}\")\n",
        "\n",
        "print(\"\\nAnalysis:\")\n",
        "print(f\"The R-squared score of {r2:.4f} indicates the model's ability to explain variance in the target variable.\")\n",
        "print(\"Eigenvalues represent the variance captured by each principal component. Larger eigenvalues may suggest\")\n",
        "print(\"the importance of that component for predicting the target variable.\")"
      ],
      "metadata": {
        "colab": {
          "base_uri": "https://localhost:8080/"
        },
        "id": "ILT8Ctj5wgZZ",
        "outputId": "ad4e2f86-dbe5-4b36-f43f-d579738c8210"
      },
      "execution_count": 7,
      "outputs": [
        {
          "output_type": "stream",
          "name": "stdout",
          "text": [
            "\n",
            "Explained Variance Ratio:\n",
            "Principal Component 1: 0.9281\n",
            "Principal Component 2: 0.0046\n",
            "Principal Component 3: 0.0673\n",
            "\n",
            "Analysis:\n",
            "The R-squared score of 0.9334 indicates the model's ability to explain variance in the target variable.\n",
            "Eigenvalues represent the variance captured by each principal component. Larger eigenvalues may suggest\n",
            "the importance of that component for predicting the target variable.\n"
          ]
        }
      ]
    },
    {
      "cell_type": "markdown",
      "source": [
        "## *Visualization of Actual vs Predicted*"
      ],
      "metadata": {
        "id": "8keGbHPrzKP2"
      }
    },
    {
      "cell_type": "code",
      "execution_count": 9,
      "metadata": {
        "colab": {
          "base_uri": "https://localhost:8080/",
          "height": 410
        },
        "id": "xT4u8x85v8EC",
        "outputId": "b444a534-e096-453c-9332-d93222c2145d"
      },
      "outputs": [
        {
          "output_type": "display_data",
          "data": {
            "text/plain": [
              "<Figure size 1000x400 with 1 Axes>"
            ],
            "image/png": "[encoded data removed]"
          },
          "metadata": {}
        }
      ],
      "source": [
        "# Plot Actual vs Predicted\n",
        "plt.figure(figsize=(10, 4))\n",
        "plt.scatter(y_test, y_pred)\n",
        "plt.plot([min(y_test), max(y_test)], [min(y_test), max(y_test)], color='red', lw=2)\n",
        "plt.xlabel('Actual Values')\n",
        "plt.ylabel('Predicted Values')\n",
        "plt.title('Actual vs Predicted Values')\n",
        "plt.show()\n"
      ]
    }
  ],
  "metadata": {
    "kernelspec": {
      "display_name": "Python 3",
      "language": "python",
      "name": "python3"
    },
    "language_info": {
      "codemirror_mode": {
        "name": "ipython",
        "version": 3
      },
      "file_extension": ".py",
      "mimetype": "text/x-python",
      "name": "python",
      "nbconvert_exporter": "python",
      "pygments_lexer": "ipython3",
      "version": "3.12.2"
    },
    "colab": {
      "provenance": []
    }
  },
  "nbformat": 4,
  "nbformat_minor": 0
}